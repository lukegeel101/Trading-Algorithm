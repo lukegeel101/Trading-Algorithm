{
 "cells": [
  {
   "cell_type": "code",
   "execution_count": 2,
   "id": "2976fa8f",
   "metadata": {},
   "outputs": [],
   "source": [
    "import pdfplumber\n"
   ]
  },
  {
   "cell_type": "code",
   "execution_count": 5,
   "id": "7bc4df0f",
   "metadata": {
    "scrolled": true
   },
   "outputs": [
    {
     "data": {
      "text/plain": [
       "<pdfplumber.pdf.PDF at 0x20824908750>"
      ]
     },
     "execution_count": 5,
     "metadata": {},
     "output_type": "execute_result"
    }
   ],
   "source": [
    "#data=tabula.read_pdf('sp-dow-jones-rebalance_mnd.pdf', stream=True,lattice=True,pages=[1,2],multiple_tables=False,pandas_options={'header':None})\n",
    "pdf = pdfplumber.open('sp-dow-jones-rebalance_mnd.pdf')\n",
    "pdf"
   ]
  },
  {
   "cell_type": "code",
   "execution_count": 9,
   "id": "e2a80d8e",
   "metadata": {
    "scrolled": false
   },
   "outputs": [
    {
     "data": {
      "text/plain": [
       "'INDEX ANNOUNCEMENT \\n \\n \\n \\n \\n \\n \\nS&P Dow Jones Indices Announces December 2021 \\nQuarterly Rebalance of the S&P/ASX Indices \\n \\n \\nSYDNEY, DECEMBER 3, 2021: S&P Dow Jones Indices announced today the changes in the \\nS&P/ASX Indices, effective prior to the open of trading on December 20, 2021, as a result of the \\nDecember quarterly review.  \\n \\n \\nS&P/ASX 20 Index – No change. \\n \\n \\nS&P/ASX 50 Index – No change. \\n \\n \\nS&P/ASX 100 Index – Effective Prior to the Open on December 20, 2021 \\nAction  Code  Company \\nAddition  ORE  Orocobre Limited \\nRemoval  LNK  Link Administration Holdings Limited \\n \\n \\nS&P/ASX 200 Index – Effective Prior to the Open on December 20, 2021 \\nAction  Code  Company \\nAddition  EVT  Event Hospitality and Entertainment Ltd \\nAddition  IMU  Imugene Limited \\nAddition  LTR  Liontown Resources Limited \\nAddition  NVX  Novonix Limited \\nAddition  PDN  Paladin Energy Ltd \\nRemoval  KGN  Kogan.Com Ltd \\nRemoval  MND  Monadelphous Group Limited \\nRemoval  NEA  Nearmap Ltd \\n \\n '"
      ]
     },
     "execution_count": 9,
     "metadata": {},
     "output_type": "execute_result"
    }
   ],
   "source": [
    "pdf.pages[0].extract_text()\n"
   ]
  },
  {
   "cell_type": "code",
   "execution_count": null,
   "id": "0f1e1fd0",
   "metadata": {},
   "outputs": [],
   "source": []
  }
 ],
 "metadata": {
  "kernelspec": {
   "display_name": "Python 3 (ipykernel)",
   "language": "python",
   "name": "python3"
  },
  "language_info": {
   "codemirror_mode": {
    "name": "ipython",
    "version": 3
   },
   "file_extension": ".py",
   "mimetype": "text/x-python",
   "name": "python",
   "nbconvert_exporter": "python",
   "pygments_lexer": "ipython3",
   "version": "3.11.0"
  }
 },
 "nbformat": 4,
 "nbformat_minor": 5
}
